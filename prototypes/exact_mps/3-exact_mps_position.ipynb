{
 "cells": [
  {
   "cell_type": "markdown",
   "metadata": {},
   "source": [
    "## Position MPS"
   ]
  },
  {
   "cell_type": "code",
   "execution_count": 2,
   "metadata": {},
   "outputs": [],
   "source": [
    "# Prerequisites\n",
    "import numpy as np\n",
    "from seemps.state import MPS\n",
    "\n",
    "\n",
    "def tensors2vector(tensors):\n",
    "    mps = MPS(tensors)\n",
    "    vector = mps.to_vector()\n",
    "    return vector"
   ]
  },
  {
   "cell_type": "markdown",
   "metadata": {},
   "source": [
    "### 1. Accumulation\n",
    "\n",
    "Codify the vector [1,2,3,4,5,6,7,8]"
   ]
  },
  {
   "cell_type": "code",
   "execution_count": 12,
   "metadata": {},
   "outputs": [
    {
     "data": {
      "text/plain": [
       "array([0., 1., 2., 3., 4., 5., 6., 7.])"
      ]
     },
     "execution_count": 12,
     "metadata": {},
     "output_type": "execute_result"
    }
   ],
   "source": [
    "# Hint: bit positions\n",
    "# [1,    2,    3,    4,    5,    6,    7,    8]\n",
    "# [000,  001,  010,  011,  100,  101,  110, 111]\n",
    "\n",
    "N = 3\n",
    "\n",
    "tensor_1 = np.zeros((1,2,2))\n",
    "tensor_2 = np.zeros((2,2,2))\n",
    "tensor_3 = np.zeros((2,2,1))\n",
    "\n",
    "tensor_1[0,0,0] = 1\n",
    "tensor_1[0,0,1] = 0\n",
    "tensor_1[0,1,0] = 1\n",
    "tensor_1[0,1,1] = 4\n",
    "\n",
    "tensor_2[0,0,0] = 1\n",
    "tensor_2[0,0,1] = 0\n",
    "tensor_2[0,1,0] = 1\n",
    "tensor_2[0,1,1] = 2\n",
    "tensor_2[1,0,0] = 0\n",
    "tensor_2[1,0,1] = 1\n",
    "tensor_2[1,1,0] = 0\n",
    "tensor_2[1,1,1] = 1\n",
    "\n",
    "tensor_3[0,0,0] = 0\n",
    "tensor_3[0,1,0] = 1\n",
    "tensor_3[1,0,0] = 1\n",
    "tensor_3[1,1,0] = 1\n",
    "\n",
    "tensors2vector([tensor_1, tensor_2, tensor_3])"
   ]
  },
  {
   "cell_type": "markdown",
   "metadata": {},
   "source": [
    "Explanation:\n",
    "\n",
    "It is based on the Schur complement:\n",
    "\n",
    "$$ \n",
    "\\begin{bmatrix}\n",
    "    0 & a \\\\\n",
    "    1 & 1 \\\\\n",
    "\\end{bmatrix}\n",
    "\\cdot\n",
    "\\begin{bmatrix}\n",
    "    0 & b \\\\\n",
    "    1 & 1 \\\\\n",
    "\\end{bmatrix}  \n",
    "=\n",
    "\\begin{bmatrix}\n",
    "    0 & a + b \\\\\n",
    "    1 & 1 \\\\\n",
    "\\end{bmatrix}  \n",
    "$$"
   ]
  },
  {
   "cell_type": "code",
   "execution_count": 48,
   "metadata": {},
   "outputs": [
    {
     "data": {
      "text/plain": [
       "array([ 0.,  1.,  2.,  3.,  4.,  5.,  6.,  7.,  8.,  9., 10., 11., 12.,\n",
       "       13., 14., 15.])"
      ]
     },
     "execution_count": 48,
     "metadata": {},
     "output_type": "execute_result"
    }
   ],
   "source": [
    "def count(sites):\n",
    "    tensor_1 = np.zeros((1,2,2))\n",
    "    tensor_1[0,:,:] = np.array([[[1, 0], [1, 2**(sites - 1)]]])\n",
    "\n",
    "    tensors_bulk = [np.zeros((2,2,2)) for _ in range(sites - 2)]\n",
    "    for i in range(len(tensors_bulk)):\n",
    "        tensors_bulk[i][0,:,0] = np.ones(2)\n",
    "        tensors_bulk[i][1,:,1] = np.ones(2)\n",
    "        tensors_bulk[i][0,1,1] =  2**(sites - (i+2))\n",
    "\n",
    "    tensor_2 = np.zeros((2,2,1))\n",
    "    tensor_2[:,:,0] = np.array([[0, 1], [1, 1]])\n",
    "\n",
    "    tensors = [tensor_1] + tensors_bulk + [tensor_2]\n",
    "    return tensors\n",
    "\n",
    "tensors2vector(count(4))"
   ]
  },
  {
   "cell_type": "markdown",
   "metadata": {},
   "source": [
    "### 2. Position MPS"
   ]
  },
  {
   "cell_type": "code",
   "execution_count": 51,
   "metadata": {},
   "outputs": [
    {
     "data": {
      "text/plain": [
       "array([-1.        , -0.86666667, -0.73333333, -0.6       , -0.46666667,\n",
       "       -0.33333333, -0.2       , -0.06666667,  0.06666667,  0.2       ,\n",
       "        0.33333333,  0.46666667,  0.6       ,  0.73333333,  0.86666667,\n",
       "        1.        ])"
      ]
     },
     "execution_count": 51,
     "metadata": {},
     "output_type": "execute_result"
    }
   ],
   "source": [
    "def position_mps(sites, start, stop, mesh_type = 'o'):\n",
    "    if mesh_type == 'c':\n",
    "        stop += (stop - start) / (2**sites - 1)\n",
    "    step = (stop - start) / 2**sites\n",
    "    tensor_1 = np.zeros((1,2,2))\n",
    "    tensor_1[0,:,:] = np.array([[[1, start], [1, start + step * 2**(sites - 1)]]])\n",
    "\n",
    "    tensors_bulk = [np.zeros((2,2,2)) for _ in range(sites - 2)]\n",
    "    for i in range(len(tensors_bulk)):\n",
    "        tensors_bulk[i][0,:,0] = np.ones(2)\n",
    "        tensors_bulk[i][1,:,1] = np.ones(2)\n",
    "        tensors_bulk[i][0,1,1] = step * 2**(sites - (i+2))\n",
    "\n",
    "    tensor_2 = np.zeros((2,2,1))\n",
    "    tensor_2[:,:,0] = np.array([[0, step], [1, 1]])\n",
    "\n",
    "    tensors = [tensor_1] + tensors_bulk + [tensor_2]\n",
    "    return tensors\n",
    "\n",
    "tensors2vector(position_mps(4, -1, 1, mesh_type='c'))\n",
    "    "
   ]
  },
  {
   "cell_type": "markdown",
   "metadata": {},
   "source": [
    "### 3. Exponential MPS"
   ]
  },
  {
   "cell_type": "code",
   "execution_count": 61,
   "metadata": {},
   "outputs": [
    {
     "data": {
      "text/plain": [
       "[<matplotlib.lines.Line2D at 0x7f840ba06ed0>]"
      ]
     },
     "execution_count": 61,
     "metadata": {},
     "output_type": "execute_result"
    },
    {
     "data": {
      "image/png": "[encoded data removed]",
      "text/plain": [
       "<Figure size 640x480 with 1 Axes>"
      ]
     },
     "metadata": {},
     "output_type": "display_data"
    }
   ],
   "source": [
    "# Hint: bit positions\n",
    "# [1,    2,    3,    4,    5,    6,    7,    8]\n",
    "# [000,  001,  010,  011,  100,  101,  110, 111]\n",
    "\n",
    "N = 3\n",
    "\n",
    "tensor_1 = np.zeros((1,2,1))\n",
    "tensor_2 = np.zeros((1,2,1))\n",
    "tensor_3 = np.zeros((1,2,1))\n",
    "\n",
    "tensor_1[0,0,0] = 1\n",
    "tensor_1[0,1,0] = np.exp(2**(N-1))\n",
    "\n",
    "tensor_2[0,0,0] = 1\n",
    "tensor_2[0,1,0] = np.exp(2**(N-2))\n",
    "\n",
    "tensor_3[0,0,0] = 1\n",
    "tensor_3[0,1,0] = np.exp(2**(N-3))\n",
    "\n",
    "vector = tensors2vector([tensor_1, tensor_2, tensor_3])\n",
    "\n",
    "import matplotlib.pyplot as plt\n",
    "plt.plot(range(2**N), np.exp(range(2**N)))\n",
    "plt.plot(range(2**N), vector, 'o')\n"
   ]
  },
  {
   "cell_type": "code",
   "execution_count": null,
   "metadata": {},
   "outputs": [],
   "source": [
    "def exponential_mps(sites, start, stop, c=1):\n",
    "    tensors = [np.array([1, np.exp(N-i)]) for i in range]\n",
    "    "
   ]
  },
  {
   "cell_type": "markdown",
   "metadata": {},
   "source": [
    "### 4. Logarithm MPS"
   ]
  },
  {
   "cell_type": "markdown",
   "metadata": {},
   "source": []
  }
 ],
 "metadata": {
  "kernelspec": {
   "display_name": "quinfog",
   "language": "python",
   "name": "python3"
  },
  "language_info": {
   "codemirror_mode": {
    "name": "ipython",
    "version": 3
   },
   "file_extension": ".py",
   "mimetype": "text/x-python",
   "name": "python",
   "nbconvert_exporter": "python",
   "pygments_lexer": "ipython3",
   "version": "3.11.5"
  }
 },
 "nbformat": 4,
 "nbformat_minor": 2
}
