{
 "cells": [
  {
   "cell_type": "markdown",
   "metadata": {},
   "source": [
    "## Building MPS exactly\n",
    "\n",
    "In this notebook I will practice how to codify vectors into MPS directly setting the values of each tensor."
   ]
  },
  {
   "cell_type": "code",
   "execution_count": 2,
   "metadata": {},
   "outputs": [],
   "source": [
    "# Prerequisites\n",
    "import numpy as np\n",
    "from seemps.state import MPS\n",
    "\n",
    "\n",
    "def tensors2vector(tensors):\n",
    "    mps = MPS(tensors)\n",
    "    vector = mps.to_vector()\n",
    "    return vector"
   ]
  },
  {
   "cell_type": "markdown",
   "metadata": {},
   "source": [
    "### Example 1.\n",
    "\n",
    "Codify the vector [1, 0, 0, 0]:"
   ]
  },
  {
   "cell_type": "code",
   "execution_count": 2,
   "metadata": {},
   "outputs": [
    {
     "data": {
      "text/plain": [
       "array([1., 0., 0., 0.])"
      ]
     },
     "execution_count": 2,
     "metadata": {},
     "output_type": "execute_result"
    }
   ],
   "source": [
    "tensor_1 = np.zeros((1,2,1))\n",
    "tensor_2 = np.zeros((1,2,1))\n",
    "\n",
    "tensor_1[0,0,0] = 1\n",
    "tensor_1[0,1,0] = 0\n",
    "tensor_2[0,0,0] = 1\n",
    "tensor_2[0,1,0] = 0\n",
    "\n",
    "tensors = [tensor_1, tensor_2]\n",
    "tensors2vector(tensors)"
   ]
  },
  {
   "cell_type": "markdown",
   "metadata": {},
   "source": [
    "Explanation: set only the bitstring {00} to 1, and the rest of the bitstrings {01}, {10} and {11} to 0."
   ]
  },
  {
   "cell_type": "markdown",
   "metadata": {},
   "source": [
    "### Example 2.\n",
    "\n",
    "Codify the vector [1, 0, 0, 1]:"
   ]
  },
  {
   "cell_type": "code",
   "execution_count": 3,
   "metadata": {},
   "outputs": [
    {
     "data": {
      "text/plain": [
       "array([1., 0., 0., 1.])"
      ]
     },
     "execution_count": 3,
     "metadata": {},
     "output_type": "execute_result"
    }
   ],
   "source": [
    "tensor_1 = np.zeros((1,2,2))\n",
    "tensor_2 = np.zeros((2,2,1))\n",
    "\n",
    "tensor_1[0,0,0] = 1\n",
    "tensor_1[0,0,1] = 0\n",
    "tensor_1[0,1,0] = 0\n",
    "tensor_1[0,1,1] = 1\n",
    "tensor_2[0,0,0] = 1\n",
    "tensor_2[0,1,0] = 0\n",
    "tensor_2[1,0,0] = 0\n",
    "tensor_2[1,1,0] = 1\n",
    "\n",
    "tensors = [tensor_1, tensor_2]\n",
    "tensors2vector(tensors)"
   ]
  },
  {
   "cell_type": "markdown",
   "metadata": {},
   "source": [
    "Explanation: I need a larger bond dimension to specify separately the bits 00 and 11 on different 'channels'."
   ]
  },
  {
   "cell_type": "markdown",
   "metadata": {},
   "source": [
    "### Example 3.\n",
    "\n",
    "Codify the vector [1, 0, 0, 0, 0, 0, 0, 1]:\n",
    "\n",
    "(this allows for the construction of the trapezoidal quadrature with a lineal combination of two MPS)."
   ]
  },
  {
   "cell_type": "code",
   "execution_count": 4,
   "metadata": {},
   "outputs": [
    {
     "data": {
      "text/plain": [
       "array([1., 0., 0., 0., 0., 0., 0., 1.])"
      ]
     },
     "execution_count": 4,
     "metadata": {},
     "output_type": "execute_result"
    }
   ],
   "source": [
    "tensor_1 = np.zeros((1,2,2))\n",
    "tensor_2 = np.zeros((2,2,2))\n",
    "tensor_3 = np.zeros((2,2,1))\n",
    "\n",
    "tensor_1[0,0,0] = 1\n",
    "tensor_1[0,0,1] = 0\n",
    "tensor_1[0,1,0] = 0\n",
    "tensor_1[0,1,1] = 1\n",
    "\n",
    "tensor_2[0,0,0] = 1\n",
    "tensor_2[0,0,1] = 0\n",
    "tensor_2[0,1,0] = 0\n",
    "tensor_2[0,1,1] = 0\n",
    "tensor_2[1,0,0] = 0\n",
    "tensor_2[1,0,1] = 0\n",
    "tensor_2[1,1,0] = 0\n",
    "tensor_2[1,1,1] = 1\n",
    "\n",
    "tensor_3[0,0,0] = 1\n",
    "tensor_3[0,1,0] = 0\n",
    "tensor_3[1,0,0] = 0\n",
    "tensor_3[1,1,0] = 1\n",
    "\n",
    "tensors = [tensor_1, tensor_2, tensor_3]\n",
    "tensors2vector(tensors)"
   ]
  },
  {
   "cell_type": "markdown",
   "metadata": {},
   "source": [
    "Explanation: I 'build a bridge' between the first and the third site."
   ]
  },
  {
   "cell_type": "markdown",
   "metadata": {},
   "source": [
    "### Trapezoidal quadrature"
   ]
  },
  {
   "cell_type": "code",
   "execution_count": 42,
   "metadata": {},
   "outputs": [
    {
     "data": {
      "text/plain": [
       "array([0.5, 1. , 1. , 1. , 1. , 1. , 1. , 1. , 1. , 1. , 1. , 1. , 1. ,\n",
       "       1. , 1. , 1. , 1. , 1. , 1. , 1. , 1. , 1. , 1. , 1. , 1. , 1. ,\n",
       "       1. , 1. , 1. , 1. , 1. , 1. , 1. , 1. , 1. , 1. , 1. , 1. , 1. ,\n",
       "       1. , 1. , 1. , 1. , 1. , 1. , 1. , 1. , 1. , 1. , 1. , 1. , 1. ,\n",
       "       1. , 1. , 1. , 1. , 1. , 1. , 1. , 1. , 1. , 1. , 1. , 0.5])"
      ]
     },
     "execution_count": 42,
     "metadata": {},
     "output_type": "execute_result"
    }
   ],
   "source": [
    "def trapezoidal_quadrature(sites):\n",
    "    tensor_1 = np.zeros((1,2,3))\n",
    "    tensor_bulk = np.zeros((3,2,3))\n",
    "    tensor_2 = np.zeros((3,2,1))\n",
    "\n",
    "    tensor_1[0,0,0] = 1\n",
    "    tensor_1[0,1,1] = 1\n",
    "    tensor_1[0,0,2] = 1\n",
    "    tensor_1[0,1,2] = 1\n",
    "\n",
    "    tensor_bulk[0,0,0] = 1\n",
    "    tensor_bulk[1,1,1] = 1\n",
    "    tensor_bulk[2,0,2] = 1\n",
    "    tensor_bulk[2,1,2] = 1\n",
    "    \n",
    "    tensor_2[0,0,0] = -0.5\n",
    "    tensor_2[1,1,0] = -0.5\n",
    "    tensor_2[2,0,0] = 1\n",
    "    tensor_2[2,1,0] = 1\n",
    "\n",
    "    tensors = [tensor_1] + [tensor_bulk for _ in range(sites-2)] + [tensor_2]\n",
    "    return tensors\n",
    "tensors2vector(trapezoidal_quadrature(6))"
   ]
  },
  {
   "cell_type": "markdown",
   "metadata": {},
   "source": [
    "### Example 4.\n",
    "\n",
    "Codify the vector [1,0,0,1,0,0,0,0]"
   ]
  },
  {
   "cell_type": "code",
   "execution_count": 5,
   "metadata": {},
   "outputs": [
    {
     "data": {
      "text/plain": [
       "array([1., 0., 0., 1., 0., 0., 0., 0.])"
      ]
     },
     "execution_count": 5,
     "metadata": {},
     "output_type": "execute_result"
    }
   ],
   "source": [
    "# Hint: bit positions\n",
    "# [1,    0,    0,    1,    0,    0,    0,    0]\n",
    "# [000,  001,  010,  011,  100,  101,  110, 111]\n",
    "tensor_1 = np.zeros((1,2,2))\n",
    "tensor_2 = np.zeros((2,2,2))\n",
    "tensor_3 = np.zeros((2,2,1))\n",
    "\n",
    "tensor_1[0,0,0] = 1\n",
    "tensor_1[0,0,1] = 1\n",
    "tensor_1[0,1,0] = 0\n",
    "tensor_1[0,1,1] = 0\n",
    "\n",
    "tensor_2[0,0,0] = 1\n",
    "tensor_2[0,0,1] = 0\n",
    "tensor_2[0,1,0] = 0\n",
    "tensor_2[0,1,1] = 0\n",
    "tensor_2[1,0,0] = 0\n",
    "tensor_2[1,0,1] = 0\n",
    "tensor_2[1,1,0] = 0\n",
    "tensor_2[1,1,1] = 1\n",
    "\n",
    "tensor_3[0,0,0] = 1\n",
    "tensor_3[0,1,0] = 0\n",
    "tensor_3[1,0,0] = 0\n",
    "tensor_3[1,1,0] = 1\n",
    "\n",
    "tensors = [tensor_1, tensor_2, tensor_3]\n",
    "tensors2vector(tensors)"
   ]
  },
  {
   "cell_type": "markdown",
   "metadata": {},
   "source": [
    "### Example 5.\n",
    "\n",
    "Codify the vector [1,0,0,1,0,0,1,0]"
   ]
  },
  {
   "cell_type": "code",
   "execution_count": 32,
   "metadata": {},
   "outputs": [
    {
     "data": {
      "text/plain": [
       "array([1., 0., 0., 1., 0., 0., 1., 0.])"
      ]
     },
     "execution_count": 32,
     "metadata": {},
     "output_type": "execute_result"
    }
   ],
   "source": [
    "# Hint: bit positions\n",
    "# [1,    0,    0,    1,    0,    0,    1,    0]\n",
    "# [000,  001,  010,  011,  100,  101,  110, 111]\n",
    "# I DID THIS WITH THE DETERMINISTIC FINITE AUTOMATA\n",
    "tensor_1 = np.zeros((1,2,2))\n",
    "tensor_2 = np.zeros((2,2,2))\n",
    "tensor_3 = np.zeros((2,2,1))\n",
    "\n",
    "tensor_1[0, 0, 0] = 1\n",
    "tensor_1[0, 1, 1] = 1\n",
    "\n",
    "tensor_2[0, 0, 0] = 1\n",
    "tensor_2[0, 1, 1] = 1\n",
    "tensor_2[1, 1, 0] = 1\n",
    "\n",
    "tensor_3[0, 0, 0] = 1\n",
    "tensor_3[0, 1, 0] = 0\n",
    "tensor_3[1, 1, 0] = 1\n",
    "\n",
    "tensors = [tensor_1, tensor_2, tensor_3]\n",
    "tensors2vector(tensors)"
   ]
  },
  {
   "cell_type": "markdown",
   "metadata": {},
   "source": [
    "### Example 6.\n",
    "\n",
    "Codify the vector [1, 0, 0, 1, 0, 0, 1, 0, 0, 1, 0, 0, 1, 0, 0, 1]:\n",
    "\n",
    "(this allows for the construction of the Simpson quadrature with a lineal combination of three MPS)."
   ]
  },
  {
   "cell_type": "code",
   "execution_count": 37,
   "metadata": {},
   "outputs": [
    {
     "data": {
      "text/plain": [
       "array([1., 0., 0., 1., 0., 0., 1., 0., 0., 1., 0., 0., 1., 0., 0., 1.])"
      ]
     },
     "execution_count": 37,
     "metadata": {},
     "output_type": "execute_result"
    }
   ],
   "source": [
    "# Hint: bit positions\n",
    "# [1,    0,    0,    1,    0,    0,    1,    0,    0,    1,    0,    0,    1,    0,    0,    1]\n",
    "# [0000, 0001, 0010, 0011, 0100, 0101, 0110, 0111, 1000, 1001, 1010, 1011, 1100, 1101, 1110, 1111]\n",
    "# Hint: I want a 1 when two contiguous bits are 1.\n",
    "# Also, I want a 1 when the two last bits of the two contiguous elements are different.\n",
    "# The pattern has to be encoded in the last two bits, as it is a 3-periodic repetition and the last two bits encode 4 values.\n",
    "tensor_1 = np.zeros((1, 2, 2))\n",
    "tensor_2 = np.zeros((2, 2, 3))\n",
    "tensor_3 = np.zeros((3, 2, 2))\n",
    "tensor_4 = np.zeros((2, 2, 1))\n",
    "\n",
    "tensor_1[0,0,0] = 1\n",
    "tensor_1[0,1,1] = 1\n",
    "\n",
    "tensor_2[0,0,0] = 1\n",
    "tensor_2[0,1,1] = 1\n",
    "tensor_2[1,0,2] = 1\n",
    "tensor_2[1,1,0] = 1\n",
    "\n",
    "tensor_3[0,0,0] = 1\n",
    "tensor_3[0,1,1] = 1\n",
    "# tensor_3[1,0,2] = 1 DEAD END\n",
    "tensor_3[1,1,0] = 1\n",
    "tensor_3[2,0,1] = 1\n",
    "# tensor_3[2,1,2] = 1 DEAD END\n",
    "\n",
    "tensor_4[0,0,0] = 1\n",
    "# tensor_4[0,1,1] = 1 ILLEGAL\n",
    "# tensor_4[1,0,2] = 1 ILLEGAL\n",
    "tensor_4[1,1,0] = 1\n",
    "# tensor_4[2,0,1] = 1 ILLEGAL\n",
    "# tensor_4[2,1,2] = 1 ILLEGAL\n",
    "\n",
    "tensors = [tensor_1, tensor_2, tensor_3, tensor_4]\n",
    "tensors2vector(tensors)"
   ]
  },
  {
   "cell_type": "markdown",
   "metadata": {},
   "source": [
    "### ALGORITHM FOR ARBITRARY SITES"
   ]
  },
  {
   "cell_type": "code",
   "execution_count": 119,
   "metadata": {},
   "outputs": [
    {
     "data": {
      "text/plain": [
       "array([1., 0., 0., 1., 0., 0., 1., 0., 0., 1., 0., 0., 1., 0., 0., 1., 0.,\n",
       "       0., 1., 0., 0., 1., 0., 0., 1., 0., 0., 1., 0., 0., 1., 0.])"
      ]
     },
     "execution_count": 119,
     "metadata": {},
     "output_type": "execute_result"
    }
   ],
   "source": [
    "def periodic_3_mps(sites):\n",
    "    if sites < 4:\n",
    "        raise ValueError(\"Sites should be larger than 4.\")\n",
    "    tensor_1 = np.zeros((1,2,2))\n",
    "    tensor_1[0,0,0] = 1\n",
    "    tensor_1[0,1,1] = 1\n",
    "\n",
    "    tensor_2 = np.zeros((2,2,3))\n",
    "    tensor_2[0,0,0] = 1\n",
    "    tensor_2[0,1,1] = 1\n",
    "    tensor_2[1,0,2] = 1\n",
    "    tensor_2[1,1,0] = 1\n",
    "\n",
    "    tensor_bulk = np.zeros((3,2,3))\n",
    "    tensor_bulk[0,0,0] = 1\n",
    "    tensor_bulk[0,1,1] = 1\n",
    "    tensor_bulk[1,0,2] = 1\n",
    "    tensor_bulk[1,1,0] = 1\n",
    "    tensor_bulk[2,0,1] = 1\n",
    "    tensor_bulk[2,1,2] = 1\n",
    "\n",
    "    tensor_3 = np.zeros((3,2,2))\n",
    "    tensor_3[0,0,0] = 1\n",
    "    tensor_3[0,1,1] = 1\n",
    "    tensor_3[1,1,0] = 1\n",
    "    tensor_3[2,0,1] = 1\n",
    "\n",
    "    tensor_4 = np.zeros((2,2,1))\n",
    "    tensor_4[0,0,0] = 1\n",
    "    tensor_4[1,1,0] = 1\n",
    "\n",
    "    tensors = [tensor_1, tensor_2] + [tensor_bulk for _ in range(sites - 4)] + [tensor_3, tensor_4]\n",
    "    return tensors\n",
    "\n",
    "tensors2vector(periodic_3_mps(5))"
   ]
  },
  {
   "cell_type": "markdown",
   "metadata": {},
   "source": [
    "### Simpson quadrature"
   ]
  },
  {
   "cell_type": "code",
   "execution_count": 3,
   "metadata": {},
   "outputs": [
    {
     "data": {
      "text/plain": [
       "array([1., 3., 3., 2., 3., 3., 2., 3., 3., 2., 3., 3., 2., 3., 3., 1.])"
      ]
     },
     "execution_count": 3,
     "metadata": {},
     "output_type": "execute_result"
    }
   ],
   "source": [
    "def simpson_quadrature(sites):\n",
    "    if sites == 2:\n",
    "        tensor_1 = np.zeros((1,2,4))\n",
    "        tensor_1[0,0,0] = 1\n",
    "        tensor_1[0,1,1] = 1\n",
    "        tensor_1[0,0,2] = 1\n",
    "        tensor_1[0,1,3] = 1\n",
    "\n",
    "        tensor_2 = np.zeros((4,2,1))\n",
    "        tensor_2[0,0,0] = -1\n",
    "        tensor_2[1,1,0] = -1\n",
    "        tensor_2[2,0,0] = 2\n",
    "        tensor_2[2,1,0] = 3\n",
    "        tensor_2[3,0,0] = 3\n",
    "        tensor_2[3,1,0] = 2\n",
    "        tensors = [tensor_1, tensor_2]\n",
    "        return tensors\n",
    "    tensor_1 = np.zeros((1,2,4))\n",
    "    tensor_1[0,0,0] = 1\n",
    "    tensor_1[0,1,1] = 1\n",
    "    tensor_1[0,0,2] = 1\n",
    "    tensor_1[0,1,3] = 1\n",
    "\n",
    "    tensor_2 = np.zeros((4,2,5))\n",
    "    tensor_2[0,0,0] = 1\n",
    "    tensor_2[1,1,1] = 1\n",
    "    tensor_2[2,0,2] = 1\n",
    "    tensor_2[2,1,3] = 1\n",
    "    tensor_2[3,0,4] = 1\n",
    "    tensor_2[3,1,2] = 1\n",
    "\n",
    "    tensor_bulk = np.zeros((5,2,5))\n",
    "    tensor_bulk[0,0,0] = 1\n",
    "    tensor_bulk[1,1,1] = 1\n",
    "    tensor_bulk[2,0,2] = 1\n",
    "    tensor_bulk[2,1,3] = 1\n",
    "    tensor_bulk[3,0,4] = 1\n",
    "    tensor_bulk[3,1,2] = 1\n",
    "    tensor_bulk[4,0,3] = 1\n",
    "    tensor_bulk[4,1,4] = 1\n",
    "\n",
    "    tensor_3 = np.zeros((5,2,1))\n",
    "    tensor_3[0,0,0] = -1\n",
    "    tensor_3[1,1,0] = -1\n",
    "    tensor_3[2,0,0] = 2\n",
    "    tensor_3[2,1,0] = 3\n",
    "    tensor_3[3,0,0] = 3\n",
    "    tensor_3[3,1,0] = 2\n",
    "    tensor_3[4,0,0] = 3\n",
    "    tensor_3[4,1,0] = 3\n",
    "\n",
    "    tensors = [tensor_1, tensor_2] + [tensor_bulk for _ in range(sites - 3)] + [tensor_3]\n",
    "    return tensors\n",
    "\n",
    "tensors2vector(simpson_quadrature(4))"
   ]
  },
  {
   "cell_type": "markdown",
   "metadata": {},
   "source": [
    "### Example 7. Vector with periodicity 5.\n",
    "Codify the vector [1, 0, 0, 0, 0, 1, 0, 0, 0, 0, 1, 0, 0, 0, 0, 1, 0, 0, 0, 0, 1, 0, 0, 0, 0, 1, 0, 0, 0, 0, 1, 0]:"
   ]
  },
  {
   "cell_type": "code",
   "execution_count": 48,
   "metadata": {},
   "outputs": [
    {
     "data": {
      "text/plain": [
       "array([1., 0., 0., 0., 0., 1., 0., 0., 0., 0., 1., 0., 0., 0., 0., 1., 0.,\n",
       "       0., 0., 0., 1., 0., 0., 0., 0., 1., 0., 0., 0., 0., 1., 0.])"
      ]
     },
     "execution_count": 48,
     "metadata": {},
     "output_type": "execute_result"
    }
   ],
   "source": [
    "tensor_1 = np.zeros((1, 2, 2))\n",
    "tensor_2 = np.zeros((2, 2, 4))\n",
    "tensor_3 = np.zeros((4, 2, 4))\n",
    "tensor_4 = np.zeros((4, 2, 3))\n",
    "tensor_5 = np.zeros((3, 2, 1))\n",
    "\n",
    "tensor_1[0,0,0] = 1\n",
    "tensor_1[0,1,1] = 1\n",
    "\n",
    "tensor_2[0,0,0] = 1\n",
    "tensor_2[0,1,1] = 1\n",
    "tensor_2[1,0,2] = 1\n",
    "tensor_2[1,1,3] = 1\n",
    "\n",
    "tensor_3[0,0,0] = 1\n",
    "tensor_3[0,1,1] = 1\n",
    "tensor_3[1,0,2] = 1\n",
    "tensor_3[1,1,3] = 1\n",
    "# tensor_2[2,0,4] = 1 ILLEGAL\n",
    "tensor_3[2,1,0] = 1\n",
    "tensor_3[3,0,1] = 1\n",
    "tensor_3[3,1,2] = 1\n",
    "#tensor_3[4,0,3] = 1\n",
    "#tensor_3[4,1,4] = 1\n",
    "\n",
    "tensor_4[0,0,0] = 1\n",
    "tensor_4[0,1,1] = 1\n",
    "tensor_4[1,0,2] = 1\n",
    "# tensor_4[1,1,3] = 1\n",
    "# tensor_4[2,0,4] = 1\n",
    "tensor_4[2,1,0] = 1\n",
    "tensor_4[3,0,1] = 1\n",
    "tensor_4[3,1,2] = 1\n",
    "# tensor_4[4,0,3] = 1\n",
    "# tensor_4[4,1,4] = 1\n",
    "\n",
    "tensor_5[0,0,0] = 1\n",
    "tensor_5[2,1,0] = 1\n",
    "\n",
    "         \n",
    "tensors = [tensor_1, tensor_2, tensor_3, tensor_4, tensor_5]\n",
    "tensors2vector(tensors)"
   ]
  },
  {
   "cell_type": "code",
   "execution_count": 129,
   "metadata": {},
   "outputs": [
    {
     "data": {
      "text/plain": [
       "array([1., 0., 0., 0., 0., 1., 0., 0., 0., 0., 1., 0., 0., 0., 0., 1., 0.,\n",
       "       0., 0., 0., 1., 0., 0., 0., 0., 1., 0., 0., 0., 0., 1., 0., 0., 0.,\n",
       "       0., 1., 0., 0., 0., 0., 1., 0., 0., 0., 0., 1., 0., 0., 0., 0., 1.,\n",
       "       0., 0., 0., 0., 1., 0., 0., 0., 0., 1., 0., 0., 0.])"
      ]
     },
     "execution_count": 129,
     "metadata": {},
     "output_type": "execute_result"
    }
   ],
   "source": [
    "def periodic_5_start_0_mps(sites):\n",
    "    if sites < 6:\n",
    "        raise ValueError(\"Sites should be larger than 4.\")\n",
    "    tensor_1 = np.zeros((1, 2, 2))\n",
    "    tensor_1[0,0,0] = 1\n",
    "    tensor_1[0,1,1] = 1\n",
    "\n",
    "    tensor_2 = np.zeros((2, 2, 4))\n",
    "    tensor_2[0,0,0] = 1\n",
    "    tensor_2[0,1,1] = 1\n",
    "    tensor_2[1,0,2] = 1\n",
    "    tensor_2[1,1,3] = 1\n",
    "\n",
    "    tensor_3 = np.zeros((4, 2, 5))\n",
    "    tensor_3[0,0,0] = 1\n",
    "    tensor_3[0,1,1] = 1\n",
    "    tensor_3[1,0,2] = 1\n",
    "    tensor_3[1,1,3] = 1\n",
    "    tensor_3[2,0,4] = 1\n",
    "    tensor_3[2,1,0] = 1\n",
    "    tensor_3[3,0,1] = 1\n",
    "    tensor_3[3,1,2] = 1\n",
    "\n",
    "    tensor_bulk = np.zeros((5,2,5))\n",
    "    tensor_bulk[0,0,0] = 1\n",
    "    tensor_bulk[0,1,1] = 1\n",
    "    tensor_bulk[1,0,2] = 1\n",
    "    tensor_bulk[1,1,3] = 1\n",
    "    tensor_bulk[2,0,4] = 1\n",
    "    tensor_bulk[2,1,0] = 1\n",
    "    tensor_bulk[3,0,1] = 1\n",
    "    tensor_bulk[3,1,2] = 1\n",
    "    tensor_bulk[4,0,3] = 1\n",
    "    tensor_bulk[4,1,4] = 1\n",
    "\n",
    "    tensor_4 = np.zeros((5,2,4))\n",
    "    tensor_4[0,0,0] = 1\n",
    "    tensor_4[0,1,1] = 1\n",
    "    tensor_4[1,0,2] = 1\n",
    "    tensor_4[1,1,3] = 1\n",
    "    tensor_4[2,1,0] = 1\n",
    "    tensor_4[3,0,1] = 1\n",
    "    tensor_4[3,1,2] = 1\n",
    "    tensor_4[4,0,3] = 1\n",
    "\n",
    "    tensor_5 = np.zeros((4,2,3))\n",
    "    tensor_5[0,0,0] = 1\n",
    "    tensor_5[1,0,2] = 1\n",
    "    tensor_5[2,1,0] = 1\n",
    "    tensor_5[3,1,2] = 1\n",
    "\n",
    "    tensor_6 = np.zeros((3,2,1))\n",
    "    tensor_6[0,0,0] = 1\n",
    "    tensor_6[2,1,0] = 1\n",
    "\n",
    "    tensors = [tensor_1, tensor_2, tensor_3] + [tensor_bulk for _ in range(sites - 6)] + [tensor_4, tensor_5, tensor_6]\n",
    "    return tensors\n",
    "\n",
    "tensors2vector(periodic_5_start_0_mps(6))"
   ]
  },
  {
   "cell_type": "markdown",
   "metadata": {},
   "source": [
    "### Example 8. Vector divisible by 5 mod 1\n",
    "Codify the vector [0, 1, 0, 0, 0, 0, 1, 0, 0, 0, 0, 1, 0, 0, 0, 0, 1, 0, 0, 0, 0, 1, 0, 0, 0, 0, 1, 0, 0, 0, 0, 1]:"
   ]
  },
  {
   "cell_type": "code",
   "execution_count": 136,
   "metadata": {},
   "outputs": [
    {
     "data": {
      "text/plain": [
       "array([0., 0., 0., 1., 0., 0., 0., 0., 1., 0., 0., 0., 0., 1., 0., 0., 0.,\n",
       "       0., 1., 0., 0., 0., 0., 1., 0., 0., 0., 0., 0., 0., 0., 0., 0., 1.,\n",
       "       0., 0., 0., 0., 1., 0., 0., 0., 0., 1., 0., 0., 0., 0., 1., 0., 0.,\n",
       "       0., 0., 1., 0., 0., 0., 0., 1., 0., 0., 0., 0., 1.])"
      ]
     },
     "execution_count": 136,
     "metadata": {},
     "output_type": "execute_result"
    }
   ],
   "source": [
    "tensor_1 = np.zeros((1, 2, 2))\n",
    "tensor_2 = np.zeros((2, 2, 4))\n",
    "tensor_3 = np.zeros((4, 2, 4))\n",
    "tensor_4 = np.zeros((4, 2, 3))\n",
    "tensor_5 = np.zeros((3, 2, 1))\n",
    "\n",
    "tensor_1[0,0,1] = 1\n",
    "tensor_1[0,1,0] = 1\n",
    "\n",
    "tensor_2[0,0,1] = 1\n",
    "tensor_2[0,1,0] = 1\n",
    "tensor_2[1,0,3] = 1\n",
    "tensor_2[1,1,2] = 1\n",
    "\n",
    "tensor_3[0,0,1] = 1\n",
    "tensor_3[0,1,0] = 1\n",
    "tensor_3[1,0,3] = 1\n",
    "tensor_3[1,1,2] = 1\n",
    "tensor_3[2,0,0] = 1\n",
    "# tensor_3[2,1,4] = 1 ILLEGAL\n",
    "tensor_3[3,0,2] = 1\n",
    "tensor_3[3,1,1] = 1\n",
    "\n",
    "tensor_4[0,1,0] = 1\n",
    "tensor_4[1,1,2] = 1\n",
    "tensor_4[2,0,0] = 1\n",
    "tensor_4[3,0,2] = 1\n",
    "\n",
    "tensor_5[0,1,0] = 1\n",
    "tensor_5[2,0,0] = 1\n",
    "\n",
    "tensors = [tensor_1, tensor_2, tensor_3, tensor_4, tensor_5]\n",
    "tensors2vector(tensors)\n"
   ]
  },
  {
   "cell_type": "code",
   "execution_count": 137,
   "metadata": {},
   "outputs": [
    {
     "data": {
      "text/plain": [
       "array([0., 0., 0., 1., 0., 0., 0., 0., 1., 0., 0., 0., 0., 1., 0., 0., 0.,\n",
       "       0., 1., 0., 0., 0., 0., 1., 0., 0., 0., 0., 1., 0., 0., 0., 0., 1.,\n",
       "       0., 0., 0., 0., 1., 0., 0., 0., 0., 1., 0., 0., 0., 0., 1., 0., 0.,\n",
       "       0., 0., 1., 0., 0., 0., 0., 1., 0., 0., 0., 0., 1.])"
      ]
     },
     "execution_count": 137,
     "metadata": {},
     "output_type": "execute_result"
    }
   ],
   "source": [
    "def periodic_5_start_1_mps(sites):\n",
    "    if sites < 6:\n",
    "        raise ValueError(\"Sites should be larger than 4.\")\n",
    "    tensor_1 = np.zeros((1, 2, 2))\n",
    "    tensor_1[0,0,1] = 1\n",
    "    tensor_1[0,1,0] = 1 \n",
    "\n",
    "    tensor_2 = np.zeros((2, 2, 4))\n",
    "    tensor_2[0,0,1] = 1\n",
    "    tensor_2[0,1,0] = 1\n",
    "    tensor_2[1,0,3] = 1\n",
    "    tensor_2[1,1,2] = 1\n",
    "\n",
    "    tensor_3 = np.zeros((4, 2, 5))\n",
    "    tensor_3[0,0,1] = 1\n",
    "    tensor_3[0,1,0] = 1\n",
    "    tensor_3[1,0,3] = 1\n",
    "    tensor_3[1,1,2] = 1\n",
    "    tensor_3[2,0,0] = 1\n",
    "    tensor_3[2,1,4] = 1\n",
    "    tensor_3[3,0,2] = 1\n",
    "    tensor_3[3,1,1] = 1\n",
    "\n",
    "    tensor_bulk = np.zeros((5,2,5))\n",
    "    tensor_bulk[0,0,1] = 1\n",
    "    tensor_bulk[0,1,0] = 1\n",
    "    tensor_bulk[1,0,3] = 1\n",
    "    tensor_bulk[1,1,2] = 1\n",
    "    tensor_bulk[2,0,0] = 1\n",
    "    tensor_bulk[2,1,4] = 1\n",
    "    tensor_bulk[3,0,2] = 1\n",
    "    tensor_bulk[3,1,1] = 1\n",
    "    tensor_bulk[4,0,4] = 1\n",
    "    tensor_bulk[4,1,3] = 1\n",
    "\n",
    "    tensor_4 = np.zeros((5,2,4))\n",
    "    tensor_4[0,0,1] = 1\n",
    "    tensor_4[0,1,0] = 1\n",
    "    tensor_4[1,0,3] = 1\n",
    "    tensor_4[1,1,2] = 1\n",
    "    tensor_4[2,0,0] = 1\n",
    "    tensor_4[3,0,2] = 1\n",
    "    tensor_4[3,1,1] = 1\n",
    "    tensor_4[4,1,3] = 1\n",
    "\n",
    "    tensor_5 = np.zeros((4,2,3))\n",
    "    tensor_5[0,1,0] = 1\n",
    "    tensor_5[1,1,2] = 1\n",
    "    tensor_5[2,0,0] = 1\n",
    "    tensor_5[3,0,2] = 1\n",
    "\n",
    "    tensor_6 = np.zeros((3,2,1))\n",
    "    tensor_6[0,1,0] = 1\n",
    "    tensor_6[2,0,0] = 1\n",
    "\n",
    "    tensors = [tensor_1, tensor_2, tensor_3] + [tensor_bulk for _ in range(sites - 6)] + [tensor_4, tensor_5, tensor_6]\n",
    "    return tensors\n",
    "\n",
    "tensors = periodic_5_start_1_mps(6)\n",
    "tensors2vector(tensors)"
   ]
  },
  {
   "cell_type": "markdown",
   "metadata": {},
   "source": [
    "Adding bulk tensors changes the periodicity for some reason."
   ]
  },
  {
   "cell_type": "markdown",
   "metadata": {},
   "source": [
    "### Example 9. Vector divisible by 5 mod 2\n",
    "Codify the vector [0, 0, 1, 0, 0, 0, 0, 1, 0, 0, 0, 0, 1, 0, 0, 0, 0, 1, 0, 0, 0, 0, 1, 0, 0, 0, 0, 1, 0, 0, 0, 0]:"
   ]
  },
  {
   "cell_type": "code",
   "execution_count": 104,
   "metadata": {},
   "outputs": [
    {
     "data": {
      "text/plain": [
       "array([0., 0., 1., 0., 0., 0., 0., 1., 0., 0., 0., 0., 1., 0., 0., 0., 0.,\n",
       "       1., 0., 0., 0., 0., 1., 0., 0., 0., 0., 1., 0., 0., 0., 0.])"
      ]
     },
     "execution_count": 104,
     "metadata": {},
     "output_type": "execute_result"
    }
   ],
   "source": [
    "tensor_1 = np.zeros((1, 2, 3))\n",
    "tensor_2 = np.zeros((3, 2, 5))\n",
    "tensor_3 = np.zeros((5, 2, 5))\n",
    "tensor_4 = np.zeros((5, 2, 4))\n",
    "tensor_5 = np.zeros((4, 2, 1))\n",
    "\n",
    "tensor_1[0,0,1] = 1\n",
    "tensor_1[0,1,2] = 1\n",
    "\n",
    "tensor_2[0,0,1] = 1\n",
    "tensor_2[0,1,2] = 1\n",
    "tensor_2[1,0,2] = 1\n",
    "tensor_2[1,1,0] = 1\n",
    "tensor_2[2,0,3] = 1\n",
    "tensor_2[2,1,4] = 1\n",
    "\n",
    "tensor_3[0,0,1] = 1\n",
    "tensor_3[0,1,2] = 1\n",
    "tensor_3[1,0,2] = 1\n",
    "tensor_3[1,1,0] = 1\n",
    "tensor_3[2,0,3] = 1\n",
    "tensor_3[2,1,4] = 1\n",
    "tensor_3[3,0,0] = 1\n",
    "tensor_3[3,1,3] = 1\n",
    "tensor_3[4,0,4] = 1\n",
    "tensor_3[4,1,1] = 1\n",
    "\n",
    "tensor_4[0,0,1] = 1\n",
    "tensor_4[2,0,3] = 1\n",
    "tensor_4[3,1,3] = 1\n",
    "tensor_4[4,1,1] = 1\n",
    "\n",
    "tensor_5[1,1,0] = 1\n",
    "tensor_5[3,0,0] = 1\n",
    "\n",
    "tensors = [tensor_1, tensor_2, tensor_3, tensor_4, tensor_5]\n",
    "tensors2vector(tensors)"
   ]
  },
  {
   "cell_type": "code",
   "execution_count": 116,
   "metadata": {},
   "outputs": [
    {
     "data": {
      "text/plain": [
       "array([0., 1., 0., 0., 0., 0., 1., 0., 0., 0., 0., 1., 0., 0., 0., 0., 1.,\n",
       "       0., 0., 0., 0., 1., 0., 0., 0., 0., 1., 0., 0., 0., 0., 1., 0., 0.,\n",
       "       0., 0., 1., 0., 0., 0., 0., 1., 0., 0., 0., 0., 1., 0., 0., 0., 0.,\n",
       "       1., 0., 0., 0., 0., 1., 0., 0., 0., 0., 1., 0., 0.])"
      ]
     },
     "execution_count": 116,
     "metadata": {},
     "output_type": "execute_result"
    }
   ],
   "source": [
    "def periodic_5_start_2_mps(sites):\n",
    "    if sites < 4:\n",
    "        raise ValueError(\"Sites should be larger than 4.\")\n",
    "    tensor_1 = np.zeros((1, 2, 3))\n",
    "    tensor_2 = np.zeros((3, 2, 5))\n",
    "    tensor_bulk = np.zeros((5, 2, 5))\n",
    "    tensor_3 = np.zeros((5, 2, 4))\n",
    "    tensor_4 = np.zeros((4, 2, 1))\n",
    "\n",
    "    tensor_1[0,0,1] = 1\n",
    "    tensor_1[0,1,2] = 1\n",
    "\n",
    "    tensor_2[0,0,1] = 1\n",
    "    tensor_2[0,1,2] = 1\n",
    "    tensor_2[1,0,2] = 1\n",
    "    tensor_2[1,1,0] = 1\n",
    "    tensor_2[2,0,3] = 1\n",
    "    tensor_2[2,1,4] = 1\n",
    "\n",
    "    tensor_bulk[0,0,1] = 1\n",
    "    tensor_bulk[0,1,2] = 1\n",
    "    tensor_bulk[1,0,2] = 1\n",
    "    tensor_bulk[1,1,0] = 1\n",
    "    tensor_bulk[2,0,3] = 1\n",
    "    tensor_bulk[2,1,4] = 1\n",
    "    tensor_bulk[3,0,0] = 1\n",
    "    tensor_bulk[3,1,3] = 1\n",
    "    tensor_bulk[4,0,4] = 1\n",
    "    tensor_bulk[4,1,1] = 1\n",
    "\n",
    "    tensor_3[0,0,1] = 1\n",
    "    tensor_3[2,0,3] = 1\n",
    "    tensor_3[3,1,3] = 1\n",
    "    tensor_3[4,1,1] = 1\n",
    "\n",
    "    tensor_4[1,1,0] = 1\n",
    "    tensor_4[3,0,0] = 1\n",
    "\n",
    "\n",
    "    tensors = [tensor_1, tensor_2] + [tensor_bulk for _ in range(sites - 4)] + [tensor_3, tensor_4]\n",
    "    return tensors\n",
    "\n",
    "tensors2vector(periodic_5_start_2_mps(6))"
   ]
  },
  {
   "cell_type": "markdown",
   "metadata": {},
   "source": [
    "### Example 9. Vector divisible by 5 mod 4\n",
    "Codify the vector [0, 0, 0, 0, 1, 0, 0, 0, 0, 1, 0, 0, 0, 0, 1, 0, 0, 0, 0, 1, 0, 0, 0, 0, 1, 0, 0, 0, 0, 1, 0, 0]:"
   ]
  },
  {
   "cell_type": "code",
   "execution_count": 60,
   "metadata": {},
   "outputs": [
    {
     "data": {
      "text/plain": [
       "array([0., 0., 0., 0., 1., 0., 0., 0., 0., 1., 0., 0., 0., 0., 1., 0., 0.,\n",
       "       0., 0., 1., 0., 0., 0., 0., 1., 0., 0., 0., 0., 1., 0., 0.])"
      ]
     },
     "execution_count": 60,
     "metadata": {},
     "output_type": "execute_result"
    }
   ],
   "source": [
    "tensor_1 = np.zeros((1, 2, 3))\n",
    "tensor_2 = np.zeros((3, 2, 5))\n",
    "tensor_3 = np.zeros((5, 2, 5))\n",
    "tensor_4 = np.zeros((5, 2, 4))\n",
    "tensor_5 = np.zeros((4, 2, 1))\n",
    "\n",
    "tensor_1[0,0,2] = 1\n",
    "tensor_1[0,1,1] = 1\n",
    "\n",
    "tensor_2[0,0,2] = 1\n",
    "tensor_2[0,1,1] = 1\n",
    "tensor_2[1,0,0] = 1\n",
    "tensor_2[1,1,2] = 1\n",
    "tensor_2[2,0,4] = 1\n",
    "tensor_2[2,1,3] = 1\n",
    "\n",
    "tensor_3[0,0,2] = 1\n",
    "tensor_3[0,1,1] = 1\n",
    "tensor_3[1,0,0] = 1\n",
    "tensor_3[1,1,2] = 1\n",
    "tensor_3[2,0,4] = 1\n",
    "tensor_3[2,1,3] = 1\n",
    "tensor_3[3,0,3] = 1\n",
    "tensor_3[3,1,0] = 1\n",
    "tensor_3[4,0,1] = 1\n",
    "tensor_3[4,1,4] = 1\n",
    "\n",
    "tensor_4[0,1,1] = 1\n",
    "tensor_4[2,1,3] = 1\n",
    "tensor_4[3,0,3] = 1\n",
    "tensor_4[4,0,1] = 1\n",
    "\n",
    "tensor_5[1,0,0] = 1\n",
    "tensor_5[3,1,0] = 1\n",
    "\n",
    "         \n",
    "tensors = [tensor_1, tensor_2, tensor_3, tensor_4, tensor_5]\n",
    "tensors2vector(tensors)"
   ]
  },
  {
   "cell_type": "markdown",
   "metadata": {},
   "source": [
    "### Example 10. Unit cells\n",
    "\n",
    "Codify the vector [1, 2, 3, 1, 2, 3, 1, 2, 3, 1, 2, 3, 1, 2, 3, 1]\n",
    "\n",
    "1 if divisible by 3\\\n",
    "2 if divisible by 3 mod 1\\\n",
    "3 if divisible by 3 mod 2"
   ]
  },
  {
   "cell_type": "code",
   "execution_count": 24,
   "metadata": {},
   "outputs": [
    {
     "data": {
      "text/plain": [
       "array([1., 2., 3., 1., 2., 3., 1., 2.])"
      ]
     },
     "execution_count": 24,
     "metadata": {},
     "output_type": "execute_result"
    }
   ],
   "source": [
    "tensor_1 = np.zeros((1,2,2))\n",
    "tensor_2 = np.zeros((2,2,3))\n",
    "tensor_3 = np.zeros((3,2,1))\n",
    "\n",
    "tensor_1[0,0,0] = 1\n",
    "tensor_1[0,1,1] = 1\n",
    "\n",
    "tensor_2[0,0,0] = 1\n",
    "tensor_2[0,1,1] = 1\n",
    "tensor_2[1,0,2] = 1\n",
    "tensor_2[1,1,0] = 1\n",
    "\n",
    "tensor_3[0,0,0] = 1\n",
    "tensor_3[0,1,0] = 2\n",
    "tensor_3[1,0,0] = 3\n",
    "tensor_3[1,1,0] = 1\n",
    "tensor_3[2,0,0] = 2\n",
    "tensor_3[2,1,0] = 3\n",
    "\n",
    "tensors = [tensor_1, tensor_2, tensor_3]\n",
    "tensors2vector(tensors)"
   ]
  },
  {
   "cell_type": "markdown",
   "metadata": {},
   "source": [
    "Method: DO NOT KILL ANY CHANNEL\n",
    "Fill out the values of every channel at the last bit."
   ]
  },
  {
   "cell_type": "markdown",
   "metadata": {},
   "source": [
    "Encode the quadrature:\n",
    "\n",
    "[38. 75. 50. 50. 75. 38. 75. 50. 50. 75. 38. 75. 50. 50. 75. 38.]"
   ]
  },
  {
   "cell_type": "code",
   "execution_count": 6,
   "metadata": {},
   "outputs": [
    {
     "data": {
      "text/plain": [
       "array([38., 75., 50., 50., 75., 38., 75., 50., 50., 75., 38., 75., 50.,\n",
       "       50., 75., 38.])"
      ]
     },
     "execution_count": 6,
     "metadata": {},
     "output_type": "execute_result"
    }
   ],
   "source": [
    "tensor_1 = np.zeros((1,2,2))\n",
    "tensor_2 = np.zeros((2,2,4))\n",
    "tensor_3 = np.zeros((4,2,6))\n",
    "tensor_4 = np.zeros((6,2,1))\n",
    "\n",
    "tensor_1[0,0,0] = 1\n",
    "tensor_1[0,1,1] = 1\n",
    "\n",
    "tensor_2[0,0,0] = 1\n",
    "tensor_2[0,1,1] = 1\n",
    "tensor_2[1,0,2] = 1\n",
    "tensor_2[1,1,3] = 1\n",
    "\n",
    "tensor_3[0,0,0] = 1\n",
    "tensor_3[0,1,1] = 1\n",
    "tensor_3[1,0,2] = 1\n",
    "tensor_3[1,1,3] = 1\n",
    "tensor_3[2,0,4] = 1\n",
    "tensor_3[2,1,0] = 1\n",
    "tensor_3[3,0,1] = 1\n",
    "tensor_3[3,1,2] = 1\n",
    "#tensor_3[4,0,3] = 1\n",
    "#tensor_3[4,1,4] = 1\n",
    "\n",
    "tensor_4[0,0,0] = 38\n",
    "tensor_4[0,1,0] = 75\n",
    "tensor_4[1,0,0] = 50\n",
    "tensor_4[1,1,0] = 50\n",
    "tensor_4[2,0,0] = 75\n",
    "tensor_4[2,1,0] = 38\n",
    "tensor_4[3,0,0] = 75\n",
    "tensor_4[3,1,0] = 50\n",
    "tensor_4[4,0,0] = 50\n",
    "tensor_4[4,1,0] = 75\n",
    "\n",
    "tensors = [tensor_1, tensor_2, tensor_3, tensor_4]\n",
    "tensors2vector(tensors)"
   ]
  },
  {
   "cell_type": "markdown",
   "metadata": {},
   "source": [
    "Now adding the boundary condition (pass it through the channels 0 and 1, and sum 2 to every other channel)"
   ]
  },
  {
   "cell_type": "code",
   "execution_count": 11,
   "metadata": {},
   "outputs": [
    {
     "data": {
      "text/plain": [
       "array([19., 75., 50., 50., 75., 38., 75., 50., 50., 75., 38., 75., 50.,\n",
       "       50., 75., 38., 75., 50., 50., 75., 38., 75., 50., 50., 75., 38.,\n",
       "       75., 50., 50., 75., 38., 75., 50., 50., 75., 38., 75., 50., 50.,\n",
       "       75., 38., 75., 50., 50., 75., 38., 75., 50., 50., 75., 38., 75.,\n",
       "       50., 50., 75., 38., 75., 50., 50., 75., 38., 75., 50., 50., 75.,\n",
       "       38., 75., 50., 50., 75., 38., 75., 50., 50., 75., 38., 75., 50.,\n",
       "       50., 75., 38., 75., 50., 50., 75., 38., 75., 50., 50., 75., 38.,\n",
       "       75., 50., 50., 75., 38., 75., 50., 50., 75., 38., 75., 50., 50.,\n",
       "       75., 38., 75., 50., 50., 75., 38., 75., 50., 50., 75., 38., 75.,\n",
       "       50., 50., 75., 38., 75., 50., 50., 75., 38., 75., 50., 50., 75.,\n",
       "       38., 75., 50., 50., 75., 38., 75., 50., 50., 75., 38., 75., 50.,\n",
       "       50., 75., 38., 75., 50., 50., 75., 38., 75., 50., 50., 75., 38.,\n",
       "       75., 50., 50., 75., 38., 75., 50., 50., 75., 38., 75., 50., 50.,\n",
       "       75., 38., 75., 50., 50., 75., 38., 75., 50., 50., 75., 38., 75.,\n",
       "       50., 50., 75., 38., 75., 50., 50., 75., 38., 75., 50., 50., 75.,\n",
       "       38., 75., 50., 50., 75., 38., 75., 50., 50., 75., 38., 75., 50.,\n",
       "       50., 75., 38., 75., 50., 50., 75., 38., 75., 50., 50., 75., 38.,\n",
       "       75., 50., 50., 75., 38., 75., 50., 50., 75., 38., 75., 50., 50.,\n",
       "       75., 38., 75., 50., 50., 75., 38., 75., 50., 50., 75., 38., 75.,\n",
       "       50., 50., 75., 38., 75., 50., 50., 75., 19.])"
      ]
     },
     "execution_count": 11,
     "metadata": {},
     "output_type": "execute_result"
    }
   ],
   "source": [
    "tensor_1 = np.zeros((1,2,4))\n",
    "tensor_2 = np.zeros((4,2,6))\n",
    "tensor_3 = np.zeros((6,2,7))\n",
    "tensor_bulk = np.zeros((7,2,7))\n",
    "tensor_4 = np.zeros((7,2,1))\n",
    "\n",
    "tensor_1[0,0,0] = 1\n",
    "tensor_1[0,1,1] = 1\n",
    "tensor_1[0,0,2] = 1\n",
    "tensor_1[0,1,3] = 1\n",
    "\n",
    "tensor_2[0,0,0] = 1\n",
    "tensor_2[1,1,1] = 1\n",
    "tensor_2[2,0,2] = 1\n",
    "tensor_2[2,1,3] = 1\n",
    "tensor_2[3,0,4] = 1\n",
    "tensor_2[3,1,5] = 1\n",
    "\n",
    "tensor_3[0,0,0] = 1\n",
    "tensor_3[1,1,1] = 1\n",
    "tensor_3[2,0,2] = 1\n",
    "tensor_3[2,1,3] = 1\n",
    "tensor_3[3,0,4] = 1\n",
    "tensor_3[3,1,5] = 1\n",
    "tensor_3[4,0,6] = 1\n",
    "tensor_3[4,1,2] = 1\n",
    "tensor_3[5,0,3] = 1\n",
    "tensor_3[5,1,4] = 1\n",
    "\n",
    "tensor_bulk[0,0,0] = 1\n",
    "tensor_bulk[1,1,1] = 1\n",
    "tensor_bulk[2,0,2] = 1\n",
    "tensor_bulk[2,1,3] = 1\n",
    "tensor_bulk[3,0,4] = 1\n",
    "tensor_bulk[3,1,5] = 1\n",
    "tensor_bulk[4,0,6] = 1\n",
    "tensor_bulk[4,1,2] = 1\n",
    "tensor_bulk[5,0,3] = 1\n",
    "tensor_bulk[5,1,4] = 1\n",
    "tensor_bulk[6,0,5] = 1\n",
    "tensor_bulk[6,1,6] = 1\n",
    "\n",
    "tensor_4[0,0,0] = -19\n",
    "tensor_4[1,1,0] = -19\n",
    "tensor_4[2,0,0] = 38\n",
    "tensor_4[2,1,0] = 75\n",
    "tensor_4[3,0,0] = 50\n",
    "tensor_4[3,1,0] = 50\n",
    "tensor_4[4,0,0] = 75\n",
    "tensor_4[4,1,0] = 38\n",
    "tensor_4[5,0,0] = 75\n",
    "tensor_4[5,1,0] = 50\n",
    "tensor_4[6,0,0] = 50\n",
    "tensor_4[6,1,0] = 75\n",
    "\n",
    "tensors = [tensor_1, tensor_2, tensor_3, tensor_bulk, tensor_bulk, tensor_bulk, tensor_bulk, tensor_4]\n",
    "tensors2vector(tensors)"
   ]
  },
  {
   "cell_type": "markdown",
   "metadata": {},
   "source": [
    "Note: it is not worth it. I think it is better to subtract the boundary after."
   ]
  },
  {
   "cell_type": "code",
   "execution_count": 45,
   "metadata": {},
   "outputs": [
    {
     "data": {
      "text/plain": [
       "array([1., 0., 0., 0., 0., 0., 0., 1.])"
      ]
     },
     "execution_count": 45,
     "metadata": {},
     "output_type": "execute_result"
    }
   ],
   "source": [
    "tensor_1 = np.zeros((1,2,2))\n",
    "tensor_2 = np.zeros((2,2,2))\n",
    "tensor_3 = np.zeros((2,2,1))\n",
    "\n",
    "tensor_1[0,0,0] = 1\n",
    "tensor_1[0,0,1] = 0\n",
    "tensor_1[0,1,0] = 0\n",
    "tensor_1[0,1,1] = 1\n",
    "\n",
    "tensor_2[0,0,0] = 1\n",
    "tensor_2[0,0,1] = 0\n",
    "tensor_2[0,1,0] = 0\n",
    "tensor_2[0,1,1] = 0\n",
    "tensor_2[1,0,0] = 0\n",
    "tensor_2[1,0,1] = 0\n",
    "tensor_2[1,1,0] = 0\n",
    "tensor_2[1,1,1] = 1\n",
    "\n",
    "tensor_3[0,0,0] = 1\n",
    "tensor_3[0,1,0] = 0\n",
    "tensor_3[1,0,0] = 0\n",
    "tensor_3[1,1,0] = 1\n",
    "\n",
    "tensors = [tensor_1, tensor_2, tensor_3]\n",
    "tensors2vector(tensors)"
   ]
  }
 ],
 "metadata": {
  "kernelspec": {
   "display_name": "quinfog",
   "language": "python",
   "name": "python3"
  },
  "language_info": {
   "codemirror_mode": {
    "name": "ipython",
    "version": 3
   },
   "file_extension": ".py",
   "mimetype": "text/x-python",
   "name": "python",
   "nbconvert_exporter": "python",
   "pygments_lexer": "ipython3",
   "version": "3.11.5"
  }
 },
 "nbformat": 4,
 "nbformat_minor": 2
}
