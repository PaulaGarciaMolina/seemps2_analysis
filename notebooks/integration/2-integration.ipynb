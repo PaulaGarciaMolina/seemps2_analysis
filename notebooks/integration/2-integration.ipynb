{
 "cells": [
  {
   "cell_type": "markdown",
   "metadata": {},
   "source": [
    "## Integración"
   ]
  },
  {
   "cell_type": "markdown",
   "metadata": {},
   "source": [
    "En la sección anterior planteamos el cálculo de cuadraturas de Newton-Cotes y Féjer, así como la convergencia de estas cuadraturas. En esta sección nos limitamos a repetir este cálculo pero para funciones más complicadas y para una combinación de los métodos de SVD, Chebyshev y TT-Cross de modo que podamos ver qué método presenta una mejor convergencia. \n",
    "\n",
    "Para hacer estos cálculos nos soportamos de una función capaz de calcular combinaciones de parámetros de forma sencilla.\n",
    "\n",
    "Nos limitamos a calcular la convergencia, la evolución de la bond dimension y los recursos empleados para calcular la integral de las siguientes dos funciones:\n",
    "\n",
    "1. Gaussiana squeezed en 2D\n",
    "\n",
    "$$ a $$\n",
    "\n",
    "2. Gaussiana squeezed en 10D\n",
    "\n",
    "$$ a $$\n",
    "\n",
    "Procedemos con el método SVD, el método de Chebyshev y la TTCross de modo que sea posible evaluar las ventajas e inconvenientes de cada método."
   ]
  },
  {
   "cell_type": "markdown",
   "metadata": {},
   "source": [
    "### 1. SVD"
   ]
  },
  {
   "cell_type": "markdown",
   "metadata": {},
   "source": [
    "La SVD va a presentar un comportamiento exponencial en $n$ ya que requiere leer todos los elementos del tensor para realizar la descomposición."
   ]
  },
  {
   "cell_type": "code",
   "execution_count": 1,
   "metadata": {},
   "outputs": [],
   "source": [
    "# Integral SVD gaussian 5D"
   ]
  },
  {
   "cell_type": "code",
   "execution_count": 2,
   "metadata": {},
   "outputs": [],
   "source": [
    "# Integral SVD gaussian 10D"
   ]
  },
  {
   "cell_type": "markdown",
   "metadata": {},
   "source": [
    "### 2. Método de Chebyshev"
   ]
  },
  {
   "cell_type": "markdown",
   "metadata": {},
   "source": [
    "El método de Chebyshev funciona muy bien para 1D sin embargo escala de forma exponencial con la dimensionalidad de la función ya que presenta un tensor de coeficientes con $d^m$ elementos:"
   ]
  },
  {
   "cell_type": "code",
   "execution_count": 3,
   "metadata": {},
   "outputs": [],
   "source": [
    "# Integral Chebyshev gaussian 5D"
   ]
  },
  {
   "cell_type": "code",
   "execution_count": 7,
   "metadata": {},
   "outputs": [],
   "source": [
    "# Integral Chebyshev gaussian 10D"
   ]
  },
  {
   "cell_type": "markdown",
   "metadata": {},
   "source": [
    "### 3. TTCross"
   ]
  },
  {
   "cell_type": "markdown",
   "metadata": {},
   "source": [
    "El método de TT-Cross escala de manera excelente con la dimensionalidad de la función:"
   ]
  },
  {
   "cell_type": "code",
   "execution_count": 5,
   "metadata": {},
   "outputs": [],
   "source": [
    "# Integral Cross gaussian 5D"
   ]
  },
  {
   "cell_type": "code",
   "execution_count": 6,
   "metadata": {},
   "outputs": [],
   "source": [
    "# Integral Cross gaussian 10D"
   ]
  }
 ],
 "metadata": {
  "kernelspec": {
   "display_name": "quinfog",
   "language": "python",
   "name": "python3"
  },
  "language_info": {
   "codemirror_mode": {
    "name": "ipython",
    "version": 3
   },
   "file_extension": ".py",
   "mimetype": "text/x-python",
   "name": "python",
   "nbconvert_exporter": "python",
   "pygments_lexer": "ipython3",
   "version": "3.11.5"
  }
 },
 "nbformat": 4,
 "nbformat_minor": 2
}
