{
 "cells": [
  {
   "cell_type": "markdown",
   "metadata": {},
   "source": [
    "## Quadratures notebook\n",
    "\n",
    "En este notebook se explicará como se pueden codificar las cuadraturas de integración en MPS."
   ]
  },
  {
   "cell_type": "markdown",
   "metadata": {},
   "source": [
    "### 1. Codificación de vectores con periodicidad"
   ]
  },
  {
   "cell_type": "markdown",
   "metadata": {},
   "source": [
    "El elemento fundamental de las cuadraturas es un patrón de periodicidad dado por una celda unidad con un número reducido de elementos. Por ello, es posible codificarlas en MPS si es posible codificar este tipo de vectores. Por ejemplo, un vector del tipo \n",
    "$$[1,2,3,1,2,3,1,...]$$"
   ]
  },
  {
   "cell_type": "markdown",
   "metadata": {},
   "source": [
    "Es posible realizar este tipo de codificaciones con una bond dimension igual al tamaño de la celda unidad. Una forma de ver como hacerlo es plantear un diagrama llamado Deterministic Finite Automaton (DFA) que acepte una cadena de bits y acepte aquella que es divisible por un número entero $n$ dado. Este diagrama puede ser traducido a un MPS con la periodicidad dada."
   ]
  },
  {
   "cell_type": "markdown",
   "metadata": {},
   "source": []
  },
  {
   "cell_type": "markdown",
   "metadata": {},
   "source": [
    "### 2. Cuadraturas de Newton-Cotes"
   ]
  },
  {
   "cell_type": "markdown",
   "metadata": {},
   "source": [
    "Las cuadraturas de Newton-Cotes son aquellas basadas en intervalos de puntos equiespaciados."
   ]
  },
  {
   "cell_type": "markdown",
   "metadata": {},
   "source": [
    "#### 2.1 Cuadratura trapezoidal"
   ]
  },
  {
   "cell_type": "markdown",
   "metadata": {},
   "source": [
    "#### 2.2 Cuadratura de Simpson"
   ]
  },
  {
   "cell_type": "markdown",
   "metadata": {},
   "source": [
    "#### 2.3 Cuadratura de quinto orden"
   ]
  },
  {
   "cell_type": "markdown",
   "metadata": {},
   "source": [
    "### 3. Cuadraturas de Féjer / Clenshaw-Curtis"
   ]
  },
  {
   "cell_type": "markdown",
   "metadata": {},
   "source": [
    "Las cuadraturas de Féjer y Clenshaw-Curtis son aquellas basadas en intervalos de puntos distribuidos irregularmente, ya sea en los zeros de Chebyshev (Féjer) o en los máximos de Chebyshev (Clenshaw-Curtis). Sin embargo, las cuadraturas de Clenshaw-Curtis requieren de máximos de Chebyshev los cuales siempre un número impar de puntos del tipo $N = 2^n + 1$, en la forma:\n",
    "\n",
    "$$ a $$\n",
    "\n",
    "por lo que no son aptas para ser codificadas en MPS.\n",
    "\n",
    "Por este motivo, nos centramos en la cuadratura de Féjer basada en los zeros de polinomios de Chebyshev de orden $N = 2^n$, que presentan $N$ zeros.\n",
    "\n",
    "Para plantear la integración con la cuadratura de Féjer, es necesario dos ingredientes: \n",
    "1. MPS sobre intervalos irregulares en los zeros de Chebyshev\n",
    "2. Cuadratura de Féjer especializada en estos MPS\n",
    "3. Calcular la integral contrayendo ambos MPS"
   ]
  },
  {
   "cell_type": "markdown",
   "metadata": {},
   "source": [
    "#### 3.1 Codificación de MPS en intervalo irregular"
   ]
  },
  {
   "cell_type": "markdown",
   "metadata": {},
   "source": [
    "Para calcular este tipo de MPS nos basamos en la expresión de los zeros de Chebyshev:\n",
    "\n",
    "$$ a $$\n",
    "\n",
    "Vemos como esto está dado simplemente por un coseno de un intervalo equiespaciado. A su vez, el coseno puede ser visto como una suma de exponenciales a través de la expresión:\n",
    "\n",
    "$$ a $$\n",
    "\n",
    "Es posible codificar una función exponencial en un MPS de bond dimension 1. Esto puede ser entendido a través de la observación de que la suma de bits se corresponde con el producto:\n",
    "\n",
    "$$ a $$\n",
    "\n",
    "Así, podemos calcular el MPS exponencial en un intervalo $[a, b]$ como:"
   ]
  },
  {
   "cell_type": "code",
   "execution_count": null,
   "metadata": {},
   "outputs": [],
   "source": [
    "# Exponential MPS"
   ]
  },
  {
   "cell_type": "markdown",
   "metadata": {},
   "source": [
    "A partir de este resultado, vemos como es posible codificar un MPS en los zeros de Chebyshev como:"
   ]
  },
  {
   "cell_type": "code",
   "execution_count": 1,
   "metadata": {},
   "outputs": [],
   "source": [
    "# Zeros MPS"
   ]
  },
  {
   "cell_type": "markdown",
   "metadata": {},
   "source": [
    "#### 3.2 Codificación de la cuadratura de Féjer"
   ]
  },
  {
   "cell_type": "markdown",
   "metadata": {},
   "source": [
    "Es posible calcular los pesos de la cuadratura de Féjer especializada para este tipo de MPS de diferentes maneras. Una de las formas más efectivas se encuentra en el articulo de Sommariva empleando una Fast Fourier Transform (FFT):\n",
    "\n",
    "$$ a $$\n",
    "\n",
    "Trasladando este resultado a código, vemos como puede ser representada en la forma:"
   ]
  },
  {
   "cell_type": "code",
   "execution_count": 2,
   "metadata": {},
   "outputs": [],
   "source": [
    "# Féjer quadrature"
   ]
  },
  {
   "cell_type": "markdown",
   "metadata": {},
   "source": [
    "A priori, también debe ser posible representarla de forma exacta utilizando la inverse Quantum Fourier Transform (To-Do)."
   ]
  },
  {
   "cell_type": "markdown",
   "metadata": {},
   "source": [
    "La ventaja de esta cuadratura es que es mucho más eficiente que las de Newton-Cotes. De hecho, teóricamente se encuentra como, para funciones suaves, la convergencia de la cuadratura de Féjer es exponencial con un exponente mucho mayor que las cuadraturas de Newton-Cotes:\n",
    "\n",
    "$$ a $$\n",
    "\n",
    "A continuación, realizamos un cálculo sencillo de la integral para una expansión de Chebyshev de una función muy sencilla de modo que el error introducido por la truncación sea despreciable:"
   ]
  },
  {
   "cell_type": "code",
   "execution_count": 3,
   "metadata": {},
   "outputs": [],
   "source": [
    "# Integrate exp(x)"
   ]
  },
  {
   "cell_type": "markdown",
   "metadata": {},
   "source": [
    "Vemos como la convergencia de cada una de las cuadraturas sigue su comportamiento teórico y como la cuadratura de Féjer es mucho más rápida."
   ]
  },
  {
   "cell_type": "markdown",
   "metadata": {},
   "source": []
  }
 ],
 "metadata": {
  "kernelspec": {
   "display_name": "quinfog",
   "language": "python",
   "name": "python3"
  },
  "language_info": {
   "codemirror_mode": {
    "name": "ipython",
    "version": 3
   },
   "file_extension": ".py",
   "mimetype": "text/x-python",
   "name": "python",
   "nbconvert_exporter": "python",
   "pygments_lexer": "ipython3",
   "version": "3.11.5"
  }
 },
 "nbformat": 4,
 "nbformat_minor": 2
}
