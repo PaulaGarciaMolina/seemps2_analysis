{
 "cells": [
  {
   "cell_type": "markdown",
   "metadata": {},
   "source": [
    "## Chebyshev MPS notebook\n",
    "\n",
    "This notebook will illustrate the ideas presented in the notebook but for the case of MPS. On this occasion, the methods available in the `analysis` module will be used."
   ]
  },
  {
   "cell_type": "code",
   "execution_count": 2,
   "metadata": {},
   "outputs": [],
   "source": [
    "import numpy as np\n",
    "import matplotlib.pyplot as plt"
   ]
  },
  {
   "cell_type": "markdown",
   "metadata": {},
   "source": [
    "### 1. Description of the method"
   ]
  },
  {
   "cell_type": "markdown",
   "metadata": {},
   "source": [
    "The advantage of Chebyshev's method is that, like other spectral methods, it allows us to expand functions in a basis which can be constructed exactly as an MPS. Indeed, it is possible to construct a basis given by the MPS of an equispaced interval of points, which we can call 'position vector' $x$, with bond-dimension 2. This vector must be defined on a domain $x [-1, 1]$, although it can be rescaled afterwards."
   ]
  },
  {
   "cell_type": "markdown",
   "metadata": {},
   "source": [
    "#### 1.1 Construction of the position vector\n",
    "\n",
    "*This is already known*"
   ]
  },
  {
   "cell_type": "markdown",
   "metadata": {},
   "source": [
    "#### 1.2 Evaluation of the partial sum"
   ]
  },
  {
   "cell_type": "markdown",
   "metadata": {},
   "source": [
    "We can reproduce what was explained in the notebook for vectors but for MPS, since the coefficient tensor $c_{i_1\\ldots i_m}$ is calculated in the same way. The only difference is that because we are dealing with MPS we have to take care of the simplification procedure and bond dimension evolution on the linear combinations. \n",
    "\n",
    "For example, we can codify a function $f(x, y) = e^{x+y}$ as:"
   ]
  },
  {
   "cell_type": "code",
   "execution_count": 3,
   "metadata": {},
   "outputs": [
    {
     "ename": "ModuleNotFoundError",
     "evalue": "No module named 'analysis'",
     "output_type": "error",
     "traceback": [
      "\u001b[0;31m---------------------------------------------------------------------------\u001b[0m",
      "\u001b[0;31mModuleNotFoundError\u001b[0m                       Traceback (most recent call last)",
      "\u001b[1;32m/home/jjrodriguezaldavero/Code/seemps_workspace/seemps2_analysis/notebooks/chebyshev/2-chebyshev.ipynb Cell 8\u001b[0m line \u001b[0;36m1\n\u001b[0;32m----> <a href='vscode-notebook-cell:/home/jjrodriguezaldavero/Code/seemps_workspace/seemps2_analysis/notebooks/chebyshev/2-chebyshev.ipynb#X10sZmlsZQ%3D%3D?line=0'>1</a>\u001b[0m \u001b[39mfrom\u001b[39;00m \u001b[39manalysis\u001b[39;00m\u001b[39m.\u001b[39;00m\u001b[39mmethods\u001b[39;00m \u001b[39mimport\u001b[39;00m chebyshev_expand\n\u001b[1;32m      <a href='vscode-notebook-cell:/home/jjrodriguezaldavero/Code/seemps_workspace/seemps2_analysis/notebooks/chebyshev/2-chebyshev.ipynb#X10sZmlsZQ%3D%3D?line=1'>2</a>\u001b[0m \u001b[39mfrom\u001b[39;00m \u001b[39mseemps\u001b[39;00m\u001b[39m.\u001b[39;00m\u001b[39mcross\u001b[39;00m \u001b[39mimport\u001b[39;00m Mesh, RegularClosedInterval\n\u001b[1;32m      <a href='vscode-notebook-cell:/home/jjrodriguezaldavero/Code/seemps_workspace/seemps2_analysis/notebooks/chebyshev/2-chebyshev.ipynb#X10sZmlsZQ%3D%3D?line=3'>4</a>\u001b[0m start \u001b[39m=\u001b[39m \u001b[39m-\u001b[39m\u001b[39m1.0\u001b[39m\n",
      "\u001b[0;31mModuleNotFoundError\u001b[0m: No module named 'analysis'"
     ]
    }
   ],
   "source": [
    "from analysis.methods import chebyshev_expand\n",
    "from seemps.cross import Mesh, RegularClosedInterval\n",
    "\n",
    "start = -1.0\n",
    "stop = 1.0\n",
    "qubits = 5\n",
    "func = lambda x, y: np.exp(x+y)\n",
    "mesh = Mesh([RegularClosedInterval(start, stop, 2**qubits) for _ in range(2)])\n",
    "orders = [10, 10]\n",
    "mps = chebyshev_expand(func, mesh, orders)"
   ]
  },
  {
   "cell_type": "markdown",
   "metadata": {},
   "source": [
    "#### 1.3 Evaluación de Clenshaw\n",
    "\n",
    "Reciclando el método de Clenshaw:"
   ]
  },
  {
   "cell_type": "code",
   "execution_count": null,
   "metadata": {},
   "outputs": [],
   "source": []
  },
  {
   "cell_type": "markdown",
   "metadata": {},
   "source": [
    "#### 1.4 Evaluación en monomios\n",
    "\n",
    "Reciclando el método de los monomios (para 1d):"
   ]
  },
  {
   "cell_type": "code",
   "execution_count": null,
   "metadata": {},
   "outputs": [],
   "source": []
  },
  {
   "cell_type": "markdown",
   "metadata": {},
   "source": []
  }
 ],
 "metadata": {
  "kernelspec": {
   "display_name": "quinfog",
   "language": "python",
   "name": "python3"
  },
  "language_info": {
   "codemirror_mode": {
    "name": "ipython",
    "version": 3
   },
   "file_extension": ".py",
   "mimetype": "text/x-python",
   "name": "python",
   "nbconvert_exporter": "python",
   "pygments_lexer": "ipython3",
   "version": "3.11.5"
  }
 },
 "nbformat": 4,
 "nbformat_minor": 2
}
