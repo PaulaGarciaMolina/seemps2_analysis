{
 "cells": [
  {
   "cell_type": "markdown",
   "metadata": {},
   "source": [
    "## Notebook sobre la skeleton decomposition"
   ]
  },
  {
   "cell_type": "markdown",
   "metadata": {},
   "source": [
    "## 1. Introducción"
   ]
  },
  {
   "cell_type": "markdown",
   "metadata": {},
   "source": [
    "La skeleton decomposition es un método matemático para descomponer una matriz $A$ de $m$ filas y $n$ columnas en términos de un número mucho más reducido de elementos, dados por $\\tilde{m} \\ll m$ filas y $\\tilde{n} \\ll n$ columnas. [Proceder a definir el método]\n",
    "\n",
    "$$ forma básica $$\n",
    "\n",
    "Este método es un método interpolativo en el sentido de que los elementos capturados por las $\\tilde{m}$ filas y $\\tilde{n}$ columnas son representados de manera exacta por la descomposición, mientras que el resto de elementos que no figuran entre la información original son calculados de una forma más o menos precisa."
   ]
  },
  {
   "cell_type": "markdown",
   "metadata": {},
   "source": [
    "### 2. Max-vol principle"
   ]
  },
  {
   "cell_type": "markdown",
   "metadata": {},
   "source": [
    "Existen varios métodos de obtener una skeleton decomposition, en función del método elegido para seleccionar las filas y columnas.\n",
    "Uno de los procedimientos heurísticos más empleados y eficaces (pero no el único) está basado en el principio maxvol *maximum volume*. En este principio, se seleccionan las filas y columnas de forma que la matriz de pivotes presente un volumen máximo."
   ]
  },
  {
   "cell_type": "markdown",
   "metadata": {},
   "source": [
    "#### 2.1 Maxvol square"
   ]
  },
  {
   "cell_type": "markdown",
   "metadata": {},
   "source": [
    "#### 2.2 Maxvol rectangular"
   ]
  },
  {
   "cell_type": "markdown",
   "metadata": {},
   "source": [
    "### 3. Skeleton decomposition"
   ]
  },
  {
   "cell_type": "markdown",
   "metadata": {},
   "source": [
    "### 4. Otras propuestas alternativas"
   ]
  },
  {
   "cell_type": "markdown",
   "metadata": {},
   "source": []
  }
 ],
 "metadata": {
  "language_info": {
   "name": "python"
  }
 },
 "nbformat": 4,
 "nbformat_minor": 2
}
